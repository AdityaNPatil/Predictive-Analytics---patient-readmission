{
 "cells": [
  {
   "cell_type": "markdown",
   "id": "728ee44d",
   "metadata": {},
   "source": [
    "To update your project on predicting hospital readmissions to utilize Big Data technologies, specifically Apache Hadoop and HDFS (Hadoop Distributed File System), follow these steps:\n",
    "\n",
    "Steps to Use Hadoop and HDFS for Your Project\n",
    "Set Up Hadoop: Ensure you have a Hadoop cluster running, whether locally or on a cloud provider. Since you mentioned you're running Hadoop locally, you should have your HDFS configured properly.\n",
    "\n",
    "Upload Data to HDFS:\n",
    "\n",
    "Use the Hadoop command line to copy your CSV files (hospital_with_actual_A1C.csv and hospital_with_predicted_A1C.csv) to HDFS."
   ]
  },
  {
   "cell_type": "code",
   "execution_count": 5,
   "id": "a620e7d5",
   "metadata": {},
   "outputs": [],
   "source": [
    "# hadoop fs -mkdir /hospital_data\n",
    "# hadoop fs -put C:\\BigData\\BigDataHackathon\\git2\\hospital_with_actual_A1C.csv /hospital_data/\n",
    "# hadoop fs -put C:\\BigData\\BigDataHackathon\\git2\\hospital_with_predicted_A1C.csv /hospital_data/\n",
    "# hdfs dfs -chmod 777 /hospital_data\n"
   ]
  },
  {
   "cell_type": "markdown",
   "id": "e917520c",
   "metadata": {},
   "source": [
    "Read Data from HDFS:\n",
    "\n",
    "Use the pydoop library or hdfs library to read data directly from HDFS in your Python script. Below is a sample code snippet to read CSV files from HDFS using pandas and pydoop.\n",
    "Install pydoop if you haven't already:"
   ]
  },
  {
   "cell_type": "code",
   "execution_count": 6,
   "id": "2e637560",
   "metadata": {},
   "outputs": [],
   "source": [
    "# pip install pydoop"
   ]
  },
  {
   "cell_type": "code",
   "execution_count": 1,
   "id": "1d9b5430",
   "metadata": {},
   "outputs": [
    {
     "name": "stdout",
     "output_type": "stream",
     "text": [
      "Columns in final_df: ['Gender', 'Admission_Type', 'Diagnosis', 'Num_Lab_Procedures', 'Num_Medications', 'Num_Outpatient_Visits', 'Num_Inpatient_Visits', 'Num_Emergency_Visits', 'Num_Diagnoses', 'A1C_Result', 'Readmitted']\n",
      "Model accuracy: 0.55\n",
      "DataFrame successfully saved to /hospital_data/hospital_readmissions_final.csv\n",
      "Error uploading model to HDFS: Remote path '/hospital_data/Readmission_Model.pkl' already exists.\n"
     ]
    }
   ],
   "source": [
    "import pandas as pd\n",
    "import numpy as np\n",
    "from hdfs import InsecureClient\n",
    "import pickle\n",
    "import io\n",
    "from sklearn.ensemble import RandomForestClassifier  # Example model\n",
    "from sklearn.model_selection import train_test_split\n",
    "from sklearn.metrics import accuracy_score\n",
    "\n",
    "# Connect to HDFS\n",
    "hdfs_client = InsecureClient('http://localhost:9870', user='hadoop')  # Update URL and user as necessary\n",
    "\n",
    "# Read the DataFrame from HDFS\n",
    "hdfs_path1 = '/hospital_data/hospital_with_actual_A1C.csv'\n",
    "hdfs_path2 = '/hospital_data/hospital_with_predicted_A1C.csv'\n",
    "\n",
    "# Read CSV files from HDFS\n",
    "with hdfs_client.read(hdfs_path1) as reader:\n",
    "    df1 = pd.read_csv(reader)\n",
    "\n",
    "with hdfs_client.read(hdfs_path2) as reader:\n",
    "    df2 = pd.read_csv(reader)\n",
    "\n",
    "# Concatenate, reset index, and check data\n",
    "final_df = pd.concat([df1, df2], axis=0).reset_index(drop=True)\n",
    "\n",
    "# Debug: Print the column names\n",
    "print(\"Columns in final_df:\", final_df.columns.tolist())\n",
    "\n",
    "# Check for the actual target column name\n",
    "target_column_name = 'Readmitted'  # Replace with your actual target column name\n",
    "\n",
    "# Ensure the target column exists in the DataFrame\n",
    "if target_column_name not in final_df.columns:\n",
    "    raise KeyError(f\"Column '{target_column_name}' not found in DataFrame. Available columns: {final_df.columns.tolist()}\")\n",
    "\n",
    "# Define feature and target variables\n",
    "X = final_df.drop(columns=[target_column_name])\n",
    "y = final_df[target_column_name]\n",
    "\n",
    "# Split the dataset into training and testing sets\n",
    "X_train, X_test, y_train, y_test = train_test_split(X, y, test_size=0.2, random_state=42)\n",
    "\n",
    "# Train a model (example: Random Forest)\n",
    "Readmission_Model = RandomForestClassifier()\n",
    "Readmission_Model.fit(X_train, y_train)\n",
    "\n",
    "# Optionally, evaluate the model\n",
    "y_pred = Readmission_Model.predict(X_test)\n",
    "accuracy = accuracy_score(y_test, y_pred)\n",
    "print(f'Model accuracy: {accuracy:.2f}')\n",
    "\n",
    "# Save the processed DataFrame back to HDFS\n",
    "final_hdfs_path = '/hospital_data/hospital_readmissions_final.csv'\n",
    "\n",
    "try:\n",
    "    # Use an in-memory buffer to write the DataFrame\n",
    "    buffer = io.StringIO()\n",
    "    final_df.to_csv(buffer, index=False)\n",
    "    buffer.seek(0)  # Move to the beginning of the buffer\n",
    "\n",
    "    # Write the buffer content to HDFS\n",
    "    with hdfs_client.write(final_hdfs_path, overwrite=True, encoding='utf-8') as writer:\n",
    "        writer.write(buffer.getvalue())\n",
    "\n",
    "    print(f\"DataFrame successfully saved to {final_hdfs_path}\")\n",
    "except Exception as e:\n",
    "    print(\"Error writing to HDFS:\", e)\n",
    "\n",
    "# Train your model and save it locally\n",
    "with open(\"Readmission_Model.pkl\", \"wb\") as m:\n",
    "    pickle.dump(Readmission_Model, m)\n",
    "\n",
    "# Optionally, copy model to HDFS if needed\n",
    "try:\n",
    "    hdfs_client.upload('/hospital_data/Readmission_Model.pkl', 'Readmission_Model.pkl')\n",
    "    print(\"Model uploaded successfully.\")\n",
    "except Exception as e:\n",
    "    print(\"Error uploading model to HDFS:\", e)\n",
    "\n",
    "# Continue with testing new user data...\n"
   ]
  }
 ],
 "metadata": {
  "kernelspec": {
   "display_name": "Python 3",
   "language": "python",
   "name": "python3"
  },
  "language_info": {
   "codemirror_mode": {
    "name": "ipython",
    "version": 3
   },
   "file_extension": ".py",
   "mimetype": "text/x-python",
   "name": "python",
   "nbconvert_exporter": "python",
   "pygments_lexer": "ipython3",
   "version": "3.12.4"
  }
 },
 "nbformat": 4,
 "nbformat_minor": 5
}
